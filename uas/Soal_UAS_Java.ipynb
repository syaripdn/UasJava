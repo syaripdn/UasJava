{
 "cells": [
  {
   "cell_type": "markdown",
   "metadata": {},
   "source": [
    "### SOAL UAS\n",
    "1. Jawablah soal - soal dibawah ini pada baris yang sudah disediakan.\n",
    "2. Jawaban diunggah pada folder github masing - masing mahasiswa dijadikan satu dengan tugas - tugas sesudah UTS \n",
    "3. Dikumpulkan paling lambat 7 Juli 2020 Jam 24.00\n"
   ]
  },
  {
   "cell_type": "markdown",
   "metadata": {},
   "source": [
    "Berikut ini adalah contoh pengkodean lambda : \n",
    "(Jika ada kekeliruan dalam syntax silahkan dibetulkan)"
   ]
  },
  {
   "cell_type": "code",
   "execution_count": 49,
   "metadata": {},
   "outputs": [
    {
     "data": {
      "text/plain": [
       "com.twosigma.beaker.javash.bkrfe5af005.ContohLambda"
      ]
     },
     "execution_count": 49,
     "metadata": {},
     "output_type": "execute_result"
    }
   ],
   "source": [
    "public class ContohLambda {\n",
    "\n",
    "   public static void main() {\n",
    "      ContohLambda obj = new ContohLambda();\n",
    "\n",
    "      //dengan type declaration tanpa kurung kurawal\n",
    "      operasiPerhitungan penjumlahan = (int a, int b) -> a + b;\n",
    "\n",
    "      //dengan return statement dan kurung kurawal\n",
    "      operasiPerhitungan pengurangan = (int a, int b) -> { return a - b; };\n",
    "\n",
    "      System.out.println(\"10 + 5 = \" + obj.operate(10, 5, penjumlahan));\n",
    "      System.out.println(\"10 - 5 = \" + obj.operate(10, 5, pengurangan));\n",
    "\n",
    "      //dengan parenthesis\n",
    "      msgService greetService1 = message -> System.out.println(\"Hello \" + message);\n",
    "\n",
    "      //tanpa parenthesis\n",
    "      msgService greetService2 = (message) -> System.out.println(\"msg \" + message);\n",
    "\n",
    "      greetService1.sayMessage(\"Helloo\");\n",
    "      greetService2.sayMessage(\"Anonim..\");\n",
    "   }\n",
    "\n",
    "   interface operasiPerhitungan {\n",
    "      int operation(int a, int b);\n",
    "   }\n",
    "\n",
    "   interface msgService {\n",
    "      void sayMessage(String message);\n",
    "   }\n",
    "\n",
    "   private int operate(int a, int b, operasiPerhitungan operasiPerhitungan) {\n",
    "      return operasiPerhitungan.operation(a, b);\n",
    "   }\n",
    "}"
   ]
  },
  {
   "cell_type": "code",
   "execution_count": 50,
   "metadata": {},
   "outputs": [
    {
     "name": "stdout",
     "output_type": "stream",
     "text": [
      "10 + 5 = 15\n",
      "10 - 5 = 5\n",
      "Hello Helloo\n",
      "msg Anonim..\n"
     ]
    },
    {
     "data": {
      "text/plain": [
       "null"
      ]
     },
     "execution_count": 50,
     "metadata": {},
     "output_type": "execute_result"
    }
   ],
   "source": [
    "//Implementasi\n",
    "ContohLambda TestLambda = new ContohLambda();\n",
    "    \n",
    "TestLambda.main();"
   ]
  },
  {
   "cell_type": "markdown",
   "metadata": {},
   "source": [
    "### [Soal 1]\n",
    "\n",
    "Jelaskan mengenai ekspresi lambda dalam pemrograman java? Apa saja yang menjadi karakteristik dari ekspresi tersebut?\n",
    "*(nilai 30)*"
   ]
  },
  {
   "cell_type": "raw",
   "metadata": {},
   "source": [
    "jawab :\n",
    "\n",
    "\n",
    "    Lambda expression digunakan terutama untuk mendefinisikan implementasi dari interface fungsional, yaitu interface dengan satu method saja. Pada contoh di atas, menggunakan berbagai jenis lambda exspression untuk menentukan method operation interface MathOperation. Kemudian kita telah mendefinisikan implementasi sayMessage dari interface GreetingService.\n",
    "    Lambda expression menghilangkan kebutuhan anonymous class dan memberikan kemudahan pemrograman fungsional namun memiliki powerfull yang dapat diandalkan.\n"
   ]
  },
  {
   "cell_type": "markdown",
   "metadata": {},
   "source": [
    "### [Soal 2]\n",
    "\n",
    "Implementasikan ekspresi lambda dari kasus UTS bangun datar anda *(nilai 70)*"
   ]
  },
  {
   "cell_type": "code",
   "execution_count": 81,
   "metadata": {},
   "outputs": [
    {
     "data": {
      "text/plain": [
       "com.twosigma.beaker.javash.bkrfe5af005.BangunRuang"
      ]
     },
     "execution_count": 81,
     "metadata": {},
     "output_type": "execute_result"
    }
   ],
   "source": [
    "//Implementasi Kode Jawaban :\n",
    "\n",
    "public class BangunRuang {\n",
    "\n",
    "   public static void main() {\n",
    "      BangunRuang bangunRuang = new BangunRuang();\n",
    "      hitungVolume limas = (int luasAlas, int tinggi) -> luasAlas * tinggi;\n",
    "       System.out.println(\"volume limas = \" + bangunRuang.operate(5, 20, limas));\n",
    "\n",
    "}\n",
    "   interface hitungVolume {\n",
    "      int operation(int luasAlas, int tinggi);\n",
    "   }\n",
    "private int operate(int luasAlas, int tinggi, hitungVolume hitungVolume) {\n",
    "      return hitungVolume.operation(luasAlas, tinggi);\n",
    "   }\n",
    "}"
   ]
  },
  {
   "cell_type": "code",
   "execution_count": 82,
   "metadata": {},
   "outputs": [
    {
     "name": "stdout",
     "output_type": "stream",
     "text": [
      "volume limas = 100\n"
     ]
    },
    {
     "data": {
      "text/plain": [
       "null"
      ]
     },
     "execution_count": 82,
     "metadata": {},
     "output_type": "execute_result"
    }
   ],
   "source": [
    "BangunRuang limas = new BangunRuang();\n",
    "    \n",
    "limas.main();"
   ]
  },
  {
   "cell_type": "markdown",
   "metadata": {},
   "source": [
    "Penjelasan Program \n",
    "\n",
    "pertama harus membuat variabelnya terlebih dahulu kemudian memasukkan rumus dari volume limas tersebut, setelah semua telah selesai di definisikan tinggal dijalankan."
   ]
  }
 ],
 "metadata": {
  "kernelspec": {
   "display_name": "Java",
   "language": "java",
   "name": "java"
  },
  "language_info": {
   "codemirror_mode": "text/x-java",
   "file_extension": ".java",
   "mimetype": "",
   "name": "Java",
   "nbconverter_exporter": "",
   "version": "1.8.0_121"
  },
  "toc": {
   "base_numbering": 1,
   "nav_menu": {},
   "number_sections": false,
   "sideBar": false,
   "skip_h1_title": false,
   "title_cell": "Table of Contents",
   "title_sidebar": "Contents",
   "toc_cell": false,
   "toc_position": {},
   "toc_section_display": false,
   "toc_window_display": false
  }
 },
 "nbformat": 4,
 "nbformat_minor": 4
}
