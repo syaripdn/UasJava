{
 "cells": [
  {
   "cell_type": "markdown",
   "metadata": {},
   "source": [
    "SOAL UAS\n",
    "    1.Jawablah soal - soal dibawah ini pada baris yang sudah disediakan.\n",
    "    2.awaban diunggah pada folder github masing - masing mahasiswa dijadikan satu dengan tugas - tugas sesudah UTS\n",
    "    3.Dikumpulkan paling lambat 7 Juli 2020 Jam 24.00"
   ]
  },
  {
   "cell_type": "code",
   "execution_count": null,
   "metadata": {},
   "outputs": [],
   "source": [
    "public class ContohLambda{\n",
    "\n",
    "   public static void main([]) {\n",
    "      contohLamda obj = new ContohLamda();\n",
    "       //dengan type declaration tanpa kurung kurawal\n",
    "\n",
    "      OperasiPerhitungan penjumplahan= (int a, int b) -> a + b;\n",
    "\n",
    "    //dengan type declaration tanpa kurung kurawal\n",
    "     OperasiPerhitungan penjumplahan2 = (a, b) -> a - b;\n",
    "\n",
    "      //with return statement along with curly braces\n",
    "      MathOperation multiplication = (int a, int b) -> { return a * b; };\n",
    "\n",
    "      //without return statement and without curly braces\n",
    "      MathOperation division = (int a, int b) -> a / b;\n",
    "\n",
    "      System.out.println(\"10 + 5 = \" + obj.operate(10, 5, Penjumplahan));\n",
    "      System.out.println(\"10 - 5 = \" + obj.operate(10, 5, Penjumplahan2));\n",
    "      System.out.println(\"10 x 5 = \" + obj.operate(10, 5, Pemjumplahya3));\n",
    "      System.out.println(\"10 / 5 = \" + obj.operate(10, 5, Penjumphanya4));\n",
    "\n",
    "      //without parenthesis\n",
    "      msgService greetService1  = message ->\n",
    "      System.out.println(\"Hello \" + message);\n",
    "\n",
    "      //tanpa parenthesis\n",
    "     msgService greetService2 = (message) ->\n",
    "      System.out.println(\"Hello \" + message);\n",
    "\n",
    "      greetService1.sayMessage(\"Helloo\");\n",
    "      greetService2.sayMessage(\"Anonim\");\n",
    "   }\n",
    "   interface OperasiPerhitungan {\n",
    "      int operation(int a, int b);\n",
    "   }\n",
    "\n",
    "   interface Interface msgService {\n",
    "      void sayMessage(String message);\n",
    "   }\n",
    "\n",
    "   private int operate(int a, int b,OperasiPerhitungan op) {\n",
    "      return op.operation(a, b);\n",
    "   }\n",
    "}"
   ]
  },
  {
   "cell_type": "code",
   "execution_count": null,
   "metadata": {},
   "outputs": [],
   "source": [
    "//Implementasi\n",
    "ContohLambda TestLambda = new ContohLambda()\n",
    "    \n",
    "TestLambda.main();"
   ]
  },
  {
   "cell_type": "markdown",
   "metadata": {},
   "source": [
    "[Soal 1]\n",
    "Jelaskan mengenai ekspresi lambda dalam pemrograman java? Apa saja yang menjadi karakteristik dari ekspresi tersebut? (nilai 30)\n",
    "\n",
    "jawab :\n",
    "Lamda expression  diperkenalkan di Java 8 dan disebut-sebut menjadi fitur terbesar yang di miliki Java 8. Lambda expression memfasilitasi pemrograman fungsional, dan banyak membantu menyerderhanakan semua proses pembuatan software.\n",
    "\n",
    "1.Optional type declaration, tidak harus lagi mendeklarasikan jenis parameter. compiler dapat menentukan jenis parameter dari nilai suatu parameter.\n",
    "\n",
    "2.Optional parenthesis around parameter, tidak perlu \n",
    "untuk menyatakan satu parameter dalam kurung []. Untuk beberapa parameter, tanda kurung diperlukan.\n",
    "\n",
    "3.Optional curly braces {}, tidak perlu menggunakan kurung kurawal dalam sebuah ekspresi jika  berisi pernyataan tunggal.\n",
    "\n",
    "4.Optional return keyword, compiler secara otomatis mengembalikan nilai jika  memiliki ekspresi tunggal dimana ekspresi tersebut merupaka ekspresi yang mengembalikan suatu nilai. Kurung kurawal diperlukan untuk menunjukkan bahwa ekspresi akan mengembalikan nilai.\n",
    "\n",
    "[Soal 2]\n",
    "Implementasikan ekspresi lambda dari kasus UTS bangun datar anda (nilai 70)"
   ]
  },
  {
   "cell_type": "code",
   "execution_count": null,
   "metadata": {},
   "outputs": [],
   "source": [
    "//Implementasi Kode Jawaban :\n",
    "\n",
    "public class Java8Tester {\n",
    "\n",
    "   final static String salutation = \"Hello! \";\n",
    "   \n",
    "   public static void main(String args[]){\n",
    "      GreetingService greetService1 = message -> \n",
    "      System.out.println(salutation + message);\n",
    "      greetService1.sayMessage(\"Hello Word\");\n",
    "   }\n",
    "\n",
    "   interface GreetingService {\n",
    "      void sayMessage(String message);\n",
    "   }\n",
    "}"
   ]
  },
  {
   "cell_type": "markdown",
   "metadata": {},
   "source": [
    "//penjelasan program :\n",
    "ekspresi lambda hanya bisa merujuk ke variabel lokal atau final, yang berarti bahwa Anda tidak dapat mengubah definisi ekstrateritorial variabel lambda dalam, jika kesalahan kompilasi."
   ]
  },
  {
   "cell_type": "code",
   "execution_count": null,
   "metadata": {},
   "outputs": [],
   "source": []
  }
 ],
 "metadata": {
  "kernelspec": {
   "display_name": "Java",
   "language": "java",
   "name": "java"
  },
  "language_info": {
   "codemirror_mode": "text/x-java",
   "file_extension": ".java",
   "mimetype": "",
   "name": "Java",
   "nbconverter_exporter": "",
   "version": "1.8.0_121"
  },
  "toc": {
   "base_numbering": 1,
   "nav_menu": {},
   "number_sections": false,
   "sideBar": false,
   "skip_h1_title": false,
   "title_cell": "Table of Contents",
   "title_sidebar": "Contents",
   "toc_cell": false,
   "toc_position": {},
   "toc_section_display": false,
   "toc_window_display": false
  }
 },
 "nbformat": 4,
 "nbformat_minor": 2
}
